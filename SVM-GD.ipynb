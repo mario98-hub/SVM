{
 "cells": [
  {
   "cell_type": "code",
   "execution_count": 129,
   "metadata": {},
   "outputs": [],
   "source": [
    "import pandas as pd\n",
    "import numpy as np\n",
    "from sklearn import svm"
   ]
  },
  {
   "cell_type": "code",
   "execution_count": 137,
   "metadata": {},
   "outputs": [],
   "source": [
    "#definisco una funzione load_data che mi permette di generare un dataset da\n",
    "#due normali multivariate (variabile x), mentre la variabile risposta è dicotomica \n",
    "#e può assumere valore [0,1].\n",
    "\n",
    "def load_data(num_samples):\n",
    "\n",
    "    #Definisco la variabile x1 \n",
    "    x1 = np.random.multivariate_normal( [3,3], [[2,-0.5],[-0.5,2]], num_samples  )\n",
    "    #Definisco la variabile x2\n",
    "    x2 = np.random.multivariate_normal( [2,2], [[2,-0.5],[-0.5,2]], num_samples )\n",
    "    #Definisco la variabile y [0,2]\n",
    "    y1 = np.ones([num_samples]) *-1\n",
    "    y2 = np.ones([num_samples]) *1\n",
    "    #Concateno per avere il risultato finale\n",
    "    x = np.concatenate([x1,x2], axis =0)\n",
    "    y = np.concatenate([y1,y2], axis =0)\n",
    "    \n",
    "    #costruisco il dataset\n",
    "    dataset1 = pd.DataFrame(x)\n",
    "    dataset1.rename(columns={0:'x1',1:'x2'}, inplace=True)\n",
    "    dataset2 = pd.DataFrame(y)\n",
    "    dataset2.rename(columns={0:'y'}, inplace=True)\n",
    "    dataset=pd.concat([dataset2,dataset1], axis=1)\n",
    "\n",
    "    return dataset"
   ]
  },
  {
   "cell_type": "code",
   "execution_count": 138,
   "metadata": {},
   "outputs": [
    {
     "data": {
      "text/html": [
       "<div>\n",
       "<style scoped>\n",
       "    .dataframe tbody tr th:only-of-type {\n",
       "        vertical-align: middle;\n",
       "    }\n",
       "\n",
       "    .dataframe tbody tr th {\n",
       "        vertical-align: top;\n",
       "    }\n",
       "\n",
       "    .dataframe thead th {\n",
       "        text-align: right;\n",
       "    }\n",
       "</style>\n",
       "<table border=\"1\" class=\"dataframe\">\n",
       "  <thead>\n",
       "    <tr style=\"text-align: right;\">\n",
       "      <th></th>\n",
       "      <th>y</th>\n",
       "      <th>x1</th>\n",
       "      <th>x2</th>\n",
       "    </tr>\n",
       "  </thead>\n",
       "  <tbody>\n",
       "    <tr>\n",
       "      <th>0</th>\n",
       "      <td>-1.0</td>\n",
       "      <td>3.643647</td>\n",
       "      <td>3.185907</td>\n",
       "    </tr>\n",
       "    <tr>\n",
       "      <th>1</th>\n",
       "      <td>-1.0</td>\n",
       "      <td>3.099474</td>\n",
       "      <td>1.937973</td>\n",
       "    </tr>\n",
       "    <tr>\n",
       "      <th>2</th>\n",
       "      <td>-1.0</td>\n",
       "      <td>2.008915</td>\n",
       "      <td>6.404534</td>\n",
       "    </tr>\n",
       "    <tr>\n",
       "      <th>3</th>\n",
       "      <td>-1.0</td>\n",
       "      <td>3.140125</td>\n",
       "      <td>3.347873</td>\n",
       "    </tr>\n",
       "    <tr>\n",
       "      <th>4</th>\n",
       "      <td>-1.0</td>\n",
       "      <td>3.219651</td>\n",
       "      <td>4.939238</td>\n",
       "    </tr>\n",
       "    <tr>\n",
       "      <th>5</th>\n",
       "      <td>-1.0</td>\n",
       "      <td>0.751368</td>\n",
       "      <td>3.003512</td>\n",
       "    </tr>\n",
       "    <tr>\n",
       "      <th>6</th>\n",
       "      <td>-1.0</td>\n",
       "      <td>2.890794</td>\n",
       "      <td>3.505694</td>\n",
       "    </tr>\n",
       "    <tr>\n",
       "      <th>7</th>\n",
       "      <td>-1.0</td>\n",
       "      <td>2.255063</td>\n",
       "      <td>5.280277</td>\n",
       "    </tr>\n",
       "    <tr>\n",
       "      <th>8</th>\n",
       "      <td>-1.0</td>\n",
       "      <td>4.915873</td>\n",
       "      <td>0.440076</td>\n",
       "    </tr>\n",
       "    <tr>\n",
       "      <th>9</th>\n",
       "      <td>-1.0</td>\n",
       "      <td>0.754160</td>\n",
       "      <td>4.486214</td>\n",
       "    </tr>\n",
       "  </tbody>\n",
       "</table>\n",
       "</div>"
      ],
      "text/plain": [
       "     y        x1        x2\n",
       "0 -1.0  3.643647  3.185907\n",
       "1 -1.0  3.099474  1.937973\n",
       "2 -1.0  2.008915  6.404534\n",
       "3 -1.0  3.140125  3.347873\n",
       "4 -1.0  3.219651  4.939238\n",
       "5 -1.0  0.751368  3.003512\n",
       "6 -1.0  2.890794  3.505694\n",
       "7 -1.0  2.255063  5.280277\n",
       "8 -1.0  4.915873  0.440076\n",
       "9 -1.0  0.754160  4.486214"
      ]
     },
     "execution_count": 138,
     "metadata": {},
     "output_type": "execute_result"
    }
   ],
   "source": [
    "np.random.seed(12345)\n",
    "data=load_data(250)\n",
    "data.head(10)"
   ]
  },
  {
   "cell_type": "code",
   "execution_count": 139,
   "metadata": {},
   "outputs": [],
   "source": [
    "#Definisco il modello svm con ottimizzazione GD nel caso generale\n",
    "\n",
    "def svm_gd(x,y,w,b, max_iter = 10000, lr = 0.1, mylambda = 0.0001):\n",
    "    ite = 0\n",
    "    while True:\n",
    "        # definisco la loss function:\n",
    "        loss1 = mylambda /2 * np.linalg.norm( w )**2\n",
    "        loss2 = np.mean( np.maximum(1- y*(np.matmul( x,w )+b), 0) )\n",
    "        loss = loss1 + loss2 \n",
    "        dLdw = mylambda*w -  np.mean( np.expand_dims( ((1 - y*(np.matmul( x,w )+b)) >0)*y, axis =-1) * x, axis = 0 , keepdims = False)\n",
    "        dLdb = - np.mean(((1- y*(np.matmul( x,w )+b))> 0)*y, axis =0, keepdims = False)\n",
    "\n",
    "        w -= lr * dLdw\n",
    "        b -= lr * dLdb\n",
    "\n",
    "        ite+=1\n",
    "        if ite >= max_iter:\n",
    "            break\n",
    "    return w,b"
   ]
  },
  {
   "cell_type": "code",
   "execution_count": 140,
   "metadata": {},
   "outputs": [],
   "source": [
    "#imposto le colonne del df come array\n",
    "x=data[['x1','x2']].to_numpy()\n",
    "y=data['y'].to_numpy()"
   ]
  },
  {
   "cell_type": "code",
   "execution_count": 141,
   "metadata": {},
   "outputs": [],
   "source": [
    "#VERIFICO IL CORRETTO FUNZIONAMENTO DELL'ALGORITMO CON DUE INIZIALIZZAZIONI\n",
    "\n",
    "#1\n",
    "np.random.seed(1234)\n",
    "w = np.random.normal(size=2) #[ 0.47143516, -1.19097569]\n",
    "b = np.random.normal() #1.4327069684260973\n",
    "w,b =svm_gd(x,y,w,b)\n",
    "#w=array([-0.62212952, -0.5651318 ])\n",
    "#b=3.00490696842606\n",
    "\n",
    "#2\n",
    "np.random.seed(54321)\n",
    "w = np.random.normal(size=2) #[0.22397889, 0.7445909]\n",
    "b = np.random.normal() #-0.3342689441687751\n",
    "w,b =svm_gd(x,y,w,b)\n",
    "#w=array([-0.62286001, -0.56563823])\n",
    "#b=3.004731055831189"
   ]
  },
  {
   "cell_type": "code",
   "execution_count": 159,
   "metadata": {},
   "outputs": [
    {
     "name": "stderr",
     "output_type": "stream",
     "text": [
      "/Users/mario/opt/anaconda3/lib/python3.7/site-packages/sklearn/svm/_base.py:977: ConvergenceWarning: Liblinear failed to converge, increase the number of iterations.\n",
      "  \"the number of iterations.\", ConvergenceWarning)\n"
     ]
    }
   ],
   "source": [
    "#IMPLEMENTAZIONE TRAMITE PACCHETTO PY\n",
    "lin_clf = svm.LinearSVC()\n",
    "mod=lin_clf.fit(x, y)\n",
    "mod.coef_\n",
    "#array([[-0.28070953, -0.27507687]])\n",
    "mod.intercept_\n",
    "#array([1.39832543])"
   ]
  },
  {
   "cell_type": "code",
   "execution_count": 160,
   "metadata": {},
   "outputs": [
    {
     "data": {
      "text/plain": [
       "'squared_hinge'"
      ]
     },
     "execution_count": 160,
     "metadata": {},
     "output_type": "execute_result"
    }
   ],
   "source": [
    "mod.loss"
   ]
  },
  {
   "cell_type": "code",
   "execution_count": 144,
   "metadata": {},
   "outputs": [
    {
     "data": {
      "text/plain": [
       "{0.1: ([-0.6220997067362539, -0.5656513326388231], 3.0055770558311194),\n",
       " 0.01: ([-0.6220704129566184, -0.5659713884851937], 3.006325055831058),\n",
       " 0.001: ([-0.6220516469359232, -0.5661148147446914], 3.0066710558310983),\n",
       " 0.0001: ([-0.6220607813890746, -0.5661185955314554], 3.0066710558312257)}"
      ]
     },
     "execution_count": 144,
     "metadata": {},
     "output_type": "execute_result"
    }
   ],
   "source": [
    "lr=[0.1,0.01,0.001,0.0001]\n",
    "diz={}\n",
    "for i in lr:\n",
    "    w,b =svm_gd(x,y,w,b,lr=0.001)\n",
    "    w_lr=w.tolist()\n",
    "    b_lr=b.tolist()\n",
    "    diz[i]=(w_lr,b_lr)\n",
    "diz"
   ]
  },
  {
   "cell_type": "code",
   "execution_count": 169,
   "metadata": {},
   "outputs": [],
   "source": [
    "def svm_gd_sto(x,y,w,b, max_iter = 10000, lr = 0.1, batch_size = 100, mylambda = 0.0001):\n",
    "    ite = 0\n",
    "    while True:\n",
    "        batch_index = np.random.choice( x.shape[0], size=batch_size ,replace = False ) #estraggo 100 numeri casuali [0,500]\n",
    "        x_batch = x[batch_index] #campione\n",
    "        y_batch = y[batch_index] #campione\n",
    "\n",
    "        # definisco la loss function:\n",
    "        loss1 = mylambda /2 * np.linalg.norm( w )**2\n",
    "        loss2 = np.mean( np.maximum(1- y_batch*(np.matmul( x_batch,w )+b), 0) )\n",
    "        loss = loss1 + loss2 \n",
    "        dLdw = mylambda*w -  np.mean( np.expand_dims( ((1 - y_batch*(np.matmul( x_batch,w )+b)) >0)*y_batch, axis =-1) * x_batch, axis = 0 , keepdims = False)\n",
    "        dLdb = - np.mean(((1- y_batch*(np.matmul( x_batch,w )+b))> 0)*y_batch, axis =0, keepdims = False)\n",
    "\n",
    "        w -= lr * dLdw\n",
    "        b -= lr * dLdb\n",
    "\n",
    "        ite+=1\n",
    "        if ite >= max_iter:\n",
    "            break\n",
    "    return w,b"
   ]
  },
  {
   "cell_type": "code",
   "execution_count": 173,
   "metadata": {},
   "outputs": [],
   "source": [
    "np.random.seed(1234)\n",
    "w = np.random.normal(size=2) #[ 0.47143516, -1.19097569]\n",
    "b = np.random.normal() #1.4327069684260973\n",
    "w,b =svm_gd_sto(x,y,w,b)\n",
    "#w=array([-0.6525253 , -0.59422346])\n",
    "#b=3.0977069684260776"
   ]
  },
  {
   "cell_type": "code",
   "execution_count": null,
   "metadata": {},
   "outputs": [],
   "source": []
  }
 ],
 "metadata": {
  "kernelspec": {
   "display_name": "Python 3",
   "language": "python",
   "name": "python3"
  },
  "language_info": {
   "codemirror_mode": {
    "name": "ipython",
    "version": 3
   },
   "file_extension": ".py",
   "mimetype": "text/x-python",
   "name": "python",
   "nbconvert_exporter": "python",
   "pygments_lexer": "ipython3",
   "version": "3.7.6"
  }
 },
 "nbformat": 4,
 "nbformat_minor": 4
}
